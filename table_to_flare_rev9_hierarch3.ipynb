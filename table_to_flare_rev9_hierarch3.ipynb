{
 "cells": [
  {
   "cell_type": "code",
   "execution_count": 1,
   "metadata": {},
   "outputs": [],
   "source": [
    "# python library for working with .csv files\n",
    "import csv\n",
    "# python library for working with JSON\n",
    "import json\n",
    "# python library for accessing system functionality\n",
    "import sys\n",
    "\n",
    "import pandas as pd"
   ]
  },
  {
   "cell_type": "code",
   "execution_count": 2,
   "metadata": {},
   "outputs": [],
   "source": [
    "# initialize an empty python list object to hold data from .csv\n",
    "vehss_list = []"
   ]
  },
  {
   "cell_type": "code",
   "execution_count": 3,
   "metadata": {},
   "outputs": [],
   "source": [
    "# initialize connection to .csv file\n",
    "with open('FLowChart1.csv', newline='') as csvfile:\n",
    "\n",
    "    # Read lines from .csv file\n",
    "    vehss = csv.reader(csvfile, delimiter=',')\n",
    "    # for each line append that line as a list to our vehss_list object\n",
    "    # the reader interprets the lines as python lists with each comma separated value as an element, so our output will be a nested list\n",
    "    for line in vehss:\n",
    "        vehss_list.append(line)"
   ]
  },
  {
   "cell_type": "code",
   "execution_count": 4,
   "metadata": {},
   "outputs": [
    {
     "name": "stdout",
     "output_type": "stream",
     "text": [
      "[['ï»¿Root', 'Call type', 'Possible Outcome 1', 'Next Step', 'Possible Outcome/Next Step', 'Possible Outcome/Next Step', 'Possible Outcome/Next Step', 'Possible Outcome/Next Step', 'Next Step', 'Next Step', '1'], ['National Jail Survey', 'First outbound call', 'Answer', 'Determine whether itâ€™s the right person', 'Right person, good time', 'Conduct survey.', 'Complete', '', '', '', '1'], ['National Jail Survey', 'First outbound call', 'Answer', 'Determine whether itâ€™s the right person', 'Right person, good time', 'Conduct survey.', 'Need to refer to another colleague', 'Get contact info', 'Go to Callback â€“ specific section', '', '1'], ['National Jail Survey', 'First outbound call', 'Answer', 'Determine whether itâ€™s the right person', 'Right person, bad time', 'Schedule callback at better time.', 'Go to Callback â€“ outbound call Right person', '', '', '', '1'], ['National Jail Survey', 'First outbound call', 'Answer', 'Determine whether itâ€™s the right person', 'Right person, informed refusal', 'Exit', '', '', '', '', '1'], ['National Jail Survey', 'First outbound call', 'Answer', 'Determine whether itâ€™s the right person', 'Wrong person', 'Ask if the right person is available. ', 'Right person available: conduct survey with them.', 'Need to refer to another colleague', 'Get contact info', 'Go to Callback â€“ specific section', '1'], ['National Jail Survey', 'First outbound call', 'Answer', 'Determine whether itâ€™s the right person', 'Wrong person', 'Ask if the right person is available. ', 'Right person available: conduct survey with them.', 'Complete', '', '', '1'], ['National Jail Survey', 'First outbound call', 'Answer', 'Determine whether itâ€™s the right person', 'Wrong person', 'Ask if the right person is available. ', 'Right person NOT available: get their info to call back.', 'Go to Callback â€“ outbound call', '', '', '1'], ['National Jail Survey', 'First outbound call', 'Answer', 'Determine whether itâ€™s the right person', 'Refusal', 'Exit', '', '', '', '', '1'], ['National Jail Survey', 'First outbound call', 'No answer', 'Leave voicemail.Â\\xa0', 'Go to Callback - outbound call', '', '', '', '', '', '1'], ['National Jail Survey', 'Callback â€“ outbound call', 'Answer', 'Determine whether itâ€™s the right person', 'Right person, bad time', 'Schedule callback at better time.', 'Go to Callback - outbound call', '', '', '', '1'], ['National Jail Survey', 'Callback â€“ outbound call', 'Answer', 'Determine whether itâ€™s the right person', 'Right person, good time', 'Conduct survey.', 'Need to refer to another colleague', 'Get contact info', 'Go to Callback â€“ specific section', '', '1'], ['National Jail Survey', 'Callback â€“ outbound call', 'Answer', 'Determine whether itâ€™s the right person', 'Right person, good time', 'Conduct survey.', 'Complete', '', '', '', '1'], ['National Jail Survey', 'Callback â€“ outbound call', 'Answer', 'Determine whether itâ€™s the right person', 'Wrong person', 'Ask if the right person is available', 'Right person available: conduct survey with them.', 'Need to refer to another colleague', 'Get contact info', 'Go to Callback â€“ specific section', '1'], ['National Jail Survey', 'Callback â€“ outbound call', 'Answer', 'Determine whether itâ€™s the right person', 'Wrong person', 'Ask if the right person is available', 'Right person available: conduct survey with them.', 'Complete', '', '', '1'], ['National Jail Survey', 'Callback â€“ outbound call', 'Answer', 'Determine whether itâ€™s the right person', 'Wrong person', 'Ask if the right person is available', 'Right person NOT available: get their info to call back.', 'Go to Callback â€“ outbound call', '', '', '1'], ['National Jail Survey', 'Callback â€“ outbound call', 'Answer', 'Determine whether itâ€™s the right person', 'Refusal', 'Exit', '', '', '', '', '1'], ['National Jail Survey', 'Callback â€“ outbound call', 'No answer', 'Leave voicemail.Â\\xa0', 'Go to Callback - outbound call', '', '', '', '', '', '1'], ['National Jail Survey', 'Callback - outbound call Right person', 'Answer', 'Good time', 'Conduct survey.', 'Need to refer to another colleague', 'Get contact info', 'Go to Callback â€“ specific section', '', '', '1'], ['National Jail Survey', 'Callback - outbound call Right person', 'Answer', 'Good time', 'Conduct survey.', 'Complete', '', '', '', '', '1'], ['National Jail Survey', 'Callback - outbound call Right person', 'Answer', 'Bad time', 'Schedule callback at better time.', '', '', '', '', '', '1'], ['National Jail Survey', 'Callback - outbound call Right person', 'No answer', 'Leave voicemail.Â\\xa0', 'Go to Callback - outbound call', '', '', '', '', '', '1'], ['National Jail Survey', 'Callback â€“ inbound call', 'Voicemail on FAQ line', 'Listen to voicemail recording', 'Wants to complete survey on phone', 'Fwd to TSSO', 'Go to Callback - outbound call', '', '', '', '1'], ['National Jail Survey', 'Callback â€“ inbound call', 'Voicemail on FAQ line', 'Listen to voicemail recording', 'Questions about survey', 'Research respond to FAQs', '', '', '', '', '1'], ['National Jail Survey', 'Callback â€“ inbound call', 'Voicemail on TSSO line', 'Listen to voicemail recording', 'Wants to complete survey on phone', 'Go to Callback - outbound call', '', '', '', '', '1'], ['National Jail Survey', 'Callback â€“ inbound call', 'Voicemail on TSSO line', 'Listen to voicemail recording', 'Questions about survey', 'TSSO fwd to Research', 'Fwd to TSSO', '', '', '', '1'], ['National Jail Survey', 'Callback â€“ inbound call', 'Answer', 'Confirm jail they are calling from', 'Determine whether itâ€™s the right person', 'Right person available: conduct survey with them.', 'Need to refer to another colleague', 'Get contact info', 'Go to Callback â€“ specific section', '', '1'], ['National Jail Survey', 'Callback â€“ inbound call', 'Answer', 'Confirm jail they are calling from', 'Determine whether itâ€™s the right person', 'Right person available: conduct survey with them.', 'Complete', '', '', '', '1'], ['National Jail Survey', 'Callback â€“ inbound call', 'Answer', 'Confirm jail they are calling from', 'Determine whether itâ€™s the right person', 'Not right person: ask if right person is available', 'Right person available: conduct survey with them.', 'Need to refer to another colleague', 'Get contact info', 'Go to Callback â€“ specific section', '1'], ['National Jail Survey', 'Callback â€“ inbound call', 'Answer', 'Confirm jail they are calling from', 'Determine whether itâ€™s the right person', 'Not right person: ask if right person is available', 'Right person available: conduct survey with them.', 'Complete', '', '', '1'], ['National Jail Survey', 'Callback â€“ inbound call', 'Answer', 'Confirm jail they are calling from', 'Determine whether itâ€™s the right person', 'Not right person: ask if right person is available', 'Right person NOT available: get their info to call back.', '', '', '', '1'], ['National Jail Survey', 'Callback â€“ specific section', 'Answer', 'Ask for the person whose name was provided by the last respondent', 'If available: conduct survey', 'Need to refer to another colleague', 'Get contact info', 'Go to Callback â€“ specific section', '', '', '1'], ['National Jail Survey', 'Callback â€“ specific section', 'Answer', 'Ask for the person whose name was provided by the last respondent', 'If available: conduct survey', 'Complete', '', '', '', '', '1'], ['National Jail Survey', 'Callback â€“ specific section', 'Answer', 'Ask for the person whose name was provided by the last respondent', 'If they are not available, schedule callback', 'Go to Callback â€“ specific section', '', '', '', '', '1'], ['National Jail Survey', 'Callback â€“ specific section', 'Answer', 'Ask for the person whose name was provided by the last respondent', 'Refusal', 'Ask if another person could answer questions on the topic/section', 'There is a colleague who can provide answers', 'Get their contact info', 'Go to Callback â€“ specific section', '', '1'], ['National Jail Survey', 'Callback â€“ specific section', 'Answer', 'Ask for the person whose name was provided by the last respondent', 'Refusal', 'Ask if another person could answer questions on the topic/section', 'There is NOT a colleague who can provide answers', 'Skip section, and ask if there is another colleague for next section', 'Get contact info', 'Go to Callback â€“ specific section', '1']]\n"
     ]
    }
   ],
   "source": [
    "print(vehss_list)"
   ]
  },
  {
   "cell_type": "code",
   "execution_count": 5,
   "metadata": {},
   "outputs": [],
   "source": [
    "# Delete Dataset variable\n",
    "\n",
    "#for i in vehss_list:\n",
    "    #del i[3]\n"
   ]
  },
  {
   "cell_type": "code",
   "execution_count": 6,
   "metadata": {},
   "outputs": [],
   "source": [
    "# Function to convert to a list of python dictionaries that the JSON library can easily work with\n",
    "# this function is called on each of the lists in our vehss_list nested list\n",
    "def add_to_flare(n, flare):\n",
    "    '''Recursively walks through a list adds each element to a lower level as children'''\n",
    "\n",
    "    #Reads in the current set of child nodes (which is a list of dictionaries containing names of the nodes)\n",
    "    children = flare[\"children\"]\n",
    "\n",
    "    # If the line of data we're working with has a length of 3, that means this is the leaf (the three elements in the list are the subgroup, prevalence, and sample_size)\n",
    "    if len(n) == 2:\n",
    "\t#append a dictionary containing the name of the node, the prevalence, and the sample size to the children list\n",
    "        children.append({\"name\": n[0], \"size\": n[1]})\n",
    "        #children.append({\"name\": n[0]})\n",
    "        \n",
    "    else:\n",
    "\t# If we're not at the end of the list, we recursively call the function to add children to other lists in children where the name matches that of the element we're looking at\n",
    "        for c in children:\n",
    "            if c[\"name\"] == n[0]:\n",
    "                add_to_flare(n[1:], c)\n",
    "                return\n",
    "\n",
    "        children.append({\"name\": n[0], \"children\": []})\n",
    "\t# and then we call the function again for the next element in the list\n",
    "        add_to_flare(n[1:], children[-1])\n",
    "        "
   ]
  },
  {
   "cell_type": "code",
   "execution_count": 7,
   "metadata": {},
   "outputs": [],
   "source": [
    "# initialize empty flare dictionary\n",
    "# This is where the root comes from, we could replace it with \"Indicators\" and remove the root entry from our nested lists similar to how we removed the dataset variable \n",
    "\n",
    "#flare = {\"name\": \"VEHSS Indicators\", \"children\": []} \n",
    "flare = {\"name\": \"National Jail Survey\", \"children\": []}"
   ]
  },
  {
   "cell_type": "code",
   "execution_count": 8,
   "metadata": {},
   "outputs": [],
   "source": [
    "# Call function on each list in vehss_list except the first (which contains the headers from the .csv file)\n",
    "for i in vehss_list[1:]:\n",
    "    add_to_flare(i, flare)"
   ]
  },
  {
   "cell_type": "code",
   "execution_count": 9,
   "metadata": {},
   "outputs": [],
   "source": [
    "# save original print() output location\n",
    "original_stdout = sys.stdout "
   ]
  },
  {
   "cell_type": "code",
   "execution_count": 10,
   "metadata": {},
   "outputs": [],
   "source": [
    "# open a text file to write output\n",
    "with open('JSON_output.json', 'w') as output:\n",
    "    #direct print() to output there\n",
    "    sys.stdout = output\n",
    "    #print list of dictionaries using json.dumps()\n",
    "    print(json.dumps(flare, indent=1))\n",
    "    #go back to original print() output location\n",
    "    sys.stdout = original_stdout"
   ]
  },
  {
   "cell_type": "markdown",
   "metadata": {},
   "source": [
    "#next steps:\n",
    "#open and replace all \"children\" with \"_children\" except for the first instance, which will open the tree with the topics open #only"
   ]
  },
  {
   "cell_type": "markdown",
   "metadata": {},
   "source": [
    "#change json file name in index.html"
   ]
  }
 ],
 "metadata": {
  "kernelspec": {
   "display_name": "Python 3",
   "language": "python",
   "name": "python3"
  },
  "language_info": {
   "codemirror_mode": {
    "name": "ipython",
    "version": 3
   },
   "file_extension": ".py",
   "mimetype": "text/x-python",
   "name": "python",
   "nbconvert_exporter": "python",
   "pygments_lexer": "ipython3",
   "version": "3.8.3"
  }
 },
 "nbformat": 4,
 "nbformat_minor": 4
}
